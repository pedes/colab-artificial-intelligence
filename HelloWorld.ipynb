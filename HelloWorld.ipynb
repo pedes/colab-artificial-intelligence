{
  "nbformat": 4,
  "nbformat_minor": 0,
  "metadata": {
    "colab": {
      "provenance": [],
      "authorship_tag": "ABX9TyOaK1BByvYiKv5Ih/Qnw1Vb"
    },
    "kernelspec": {
      "name": "python3",
      "display_name": "Python 3"
    },
    "language_info": {
      "name": "python"
    }
  },
  "cells": [
    {
      "cell_type": "markdown",
      "source": [
        "Title\n",
        "\n",
        "Check Linux and Python version"
      ],
      "metadata": {
        "id": "y_-z4p7OfRSQ"
      }
    },
    {
      "cell_type": "code",
      "source": [
        "!python --version && uname -a"
      ],
      "metadata": {
        "id": "f5HsDrvKetV5",
        "outputId": "aa749435-e72d-43e5-a609-1ac9f4fc5954",
        "colab": {
          "base_uri": "https://localhost:8080/"
        }
      },
      "execution_count": 4,
      "outputs": [
        {
          "output_type": "stream",
          "name": "stdout",
          "text": [
            "Python 3.10.12\n",
            "Linux 1855ed5c059b 6.1.85+ #1 SMP PREEMPT_DYNAMIC Thu Jun 27 21:05:47 UTC 2024 x86_64 x86_64 x86_64 GNU/Linux\n"
          ]
        }
      ]
    },
    {
      "cell_type": "code",
      "execution_count": null,
      "metadata": {
        "id": "WM2HGB9lemLp"
      },
      "outputs": [],
      "source": []
    }
  ]
}